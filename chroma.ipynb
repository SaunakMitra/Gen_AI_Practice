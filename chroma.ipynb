{
 "cells": [
  {
   "cell_type": "code",
   "execution_count": null,
   "metadata": {},
   "outputs": [],
   "source": [
    "#! pip install -r requirement.txt"
   ]
  },
  {
   "cell_type": "code",
   "execution_count": 35,
   "metadata": {},
   "outputs": [
    {
     "name": "stdout",
     "output_type": "stream",
     "text": [
      "Requirement already satisfied: chromadb in c:\\users\\saunak mitra\\onedrive\\desktop\\jupyter\\assignment\\lib\\site-packages (0.5.3)\n",
      "Requirement already satisfied: pydantic>=1.9 in c:\\users\\saunak mitra\\onedrive\\desktop\\jupyter\\assignment\\lib\\site-packages (from chromadb) (2.9.2)\n",
      "Requirement already satisfied: grpcio>=1.58.0 in c:\\users\\saunak mitra\\onedrive\\desktop\\jupyter\\assignment\\lib\\site-packages (from chromadb) (1.68.0)\n",
      "Requirement already satisfied: opentelemetry-instrumentation-fastapi>=0.41b0 in c:\\users\\saunak mitra\\onedrive\\desktop\\jupyter\\assignment\\lib\\site-packages (from chromadb) (0.49b2)\n",
      "Requirement already satisfied: mmh3>=4.0.1 in c:\\users\\saunak mitra\\onedrive\\desktop\\jupyter\\assignment\\lib\\site-packages (from chromadb) (5.0.1)\n",
      "Requirement already satisfied: opentelemetry-exporter-otlp-proto-grpc>=1.2.0 in c:\\users\\saunak mitra\\onedrive\\desktop\\jupyter\\assignment\\lib\\site-packages (from chromadb) (1.28.2)\n",
      "Requirement already satisfied: overrides>=7.3.1 in c:\\users\\saunak mitra\\onedrive\\desktop\\jupyter\\assignment\\lib\\site-packages (from chromadb) (7.7.0)\n",
      "Requirement already satisfied: tokenizers>=0.13.2 in c:\\users\\saunak mitra\\onedrive\\desktop\\jupyter\\assignment\\lib\\site-packages (from chromadb) (0.20.3)\n",
      "Requirement already satisfied: typer>=0.9.0 in c:\\users\\saunak mitra\\onedrive\\desktop\\jupyter\\assignment\\lib\\site-packages (from chromadb) (0.14.0)\n",
      "Requirement already satisfied: fastapi>=0.95.2 in c:\\users\\saunak mitra\\onedrive\\desktop\\jupyter\\assignment\\lib\\site-packages (from chromadb) (0.115.5)\n",
      "Requirement already satisfied: tenacity>=8.2.3 in c:\\users\\saunak mitra\\onedrive\\desktop\\jupyter\\assignment\\lib\\site-packages (from chromadb) (8.5.0)\n",
      "Requirement already satisfied: tqdm>=4.65.0 in c:\\users\\saunak mitra\\onedrive\\desktop\\jupyter\\assignment\\lib\\site-packages (from chromadb) (4.67.1)\n",
      "Requirement already satisfied: opentelemetry-api>=1.2.0 in c:\\users\\saunak mitra\\onedrive\\desktop\\jupyter\\assignment\\lib\\site-packages (from chromadb) (1.28.2)\n",
      "Requirement already satisfied: opentelemetry-sdk>=1.2.0 in c:\\users\\saunak mitra\\onedrive\\desktop\\jupyter\\assignment\\lib\\site-packages (from chromadb) (1.28.2)\n",
      "Requirement already satisfied: onnxruntime>=1.14.1 in c:\\users\\saunak mitra\\onedrive\\desktop\\jupyter\\assignment\\lib\\site-packages (from chromadb) (1.20.1)\n",
      "Requirement already satisfied: importlib-resources in c:\\users\\saunak mitra\\onedrive\\desktop\\jupyter\\assignment\\lib\\site-packages (from chromadb) (6.4.5)\n",
      "Requirement already satisfied: bcrypt>=4.0.1 in c:\\users\\saunak mitra\\onedrive\\desktop\\jupyter\\assignment\\lib\\site-packages (from chromadb) (4.2.1)\n",
      "Requirement already satisfied: build>=1.0.3 in c:\\users\\saunak mitra\\onedrive\\desktop\\jupyter\\assignment\\lib\\site-packages (from chromadb) (1.2.2.post1)\n",
      "Requirement already satisfied: httpx>=0.27.0 in c:\\users\\saunak mitra\\onedrive\\desktop\\jupyter\\assignment\\lib\\site-packages (from chromadb) (0.27.0)\n",
      "Requirement already satisfied: requests>=2.28 in c:\\users\\saunak mitra\\onedrive\\desktop\\jupyter\\assignment\\lib\\site-packages (from chromadb) (2.32.3)\n",
      "Requirement already satisfied: posthog>=2.4.0 in c:\\users\\saunak mitra\\onedrive\\desktop\\jupyter\\assignment\\lib\\site-packages (from chromadb) (3.7.4)\n",
      "Requirement already satisfied: numpy<2.0.0,>=1.22.5 in c:\\users\\saunak mitra\\onedrive\\desktop\\jupyter\\assignment\\lib\\site-packages (from chromadb) (1.26.4)\n",
      "Requirement already satisfied: chroma-hnswlib==0.7.3 in c:\\users\\saunak mitra\\onedrive\\desktop\\jupyter\\assignment\\lib\\site-packages (from chromadb) (0.7.3)\n",
      "Requirement already satisfied: pypika>=0.48.9 in c:\\users\\saunak mitra\\onedrive\\desktop\\jupyter\\assignment\\lib\\site-packages (from chromadb) (0.48.9)\n",
      "Requirement already satisfied: PyYAML>=6.0.0 in c:\\users\\saunak mitra\\onedrive\\desktop\\jupyter\\assignment\\lib\\site-packages (from chromadb) (6.0.2)\n",
      "Requirement already satisfied: orjson>=3.9.12 in c:\\users\\saunak mitra\\onedrive\\desktop\\jupyter\\assignment\\lib\\site-packages (from chromadb) (3.10.12)\n",
      "Requirement already satisfied: uvicorn[standard]>=0.18.3 in c:\\users\\saunak mitra\\onedrive\\desktop\\jupyter\\assignment\\lib\\site-packages (from chromadb) (0.32.1)\n",
      "Requirement already satisfied: typing-extensions>=4.5.0 in c:\\users\\saunak mitra\\onedrive\\desktop\\jupyter\\assignment\\lib\\site-packages (from chromadb) (4.12.2)\n",
      "Requirement already satisfied: kubernetes>=28.1.0 in c:\\users\\saunak mitra\\onedrive\\desktop\\jupyter\\assignment\\lib\\site-packages (from chromadb) (31.0.0)\n",
      "Requirement already satisfied: tomli>=1.1.0 in c:\\users\\saunak mitra\\onedrive\\desktop\\jupyter\\assignment\\lib\\site-packages (from build>=1.0.3->chromadb) (2.2.1)\n",
      "Requirement already satisfied: packaging>=19.1 in c:\\users\\saunak mitra\\onedrive\\desktop\\jupyter\\assignment\\lib\\site-packages (from build>=1.0.3->chromadb) (24.2)\n",
      "Requirement already satisfied: pyproject_hooks in c:\\users\\saunak mitra\\onedrive\\desktop\\jupyter\\assignment\\lib\\site-packages (from build>=1.0.3->chromadb) (1.2.0)\n",
      "Requirement already satisfied: colorama in c:\\users\\saunak mitra\\onedrive\\desktop\\jupyter\\assignment\\lib\\site-packages (from build>=1.0.3->chromadb) (0.4.6)\n",
      "Requirement already satisfied: starlette<0.42.0,>=0.40.0 in c:\\users\\saunak mitra\\onedrive\\desktop\\jupyter\\assignment\\lib\\site-packages (from fastapi>=0.95.2->chromadb) (0.41.3)\n",
      "Requirement already satisfied: anyio in c:\\users\\saunak mitra\\onedrive\\desktop\\jupyter\\assignment\\lib\\site-packages (from httpx>=0.27.0->chromadb) (4.6.2.post1)\n",
      "Requirement already satisfied: idna in c:\\users\\saunak mitra\\onedrive\\desktop\\jupyter\\assignment\\lib\\site-packages (from httpx>=0.27.0->chromadb) (3.10)\n",
      "Requirement already satisfied: certifi in c:\\users\\saunak mitra\\onedrive\\desktop\\jupyter\\assignment\\lib\\site-packages (from httpx>=0.27.0->chromadb) (2024.8.30)\n",
      "Requirement already satisfied: httpcore==1.* in c:\\users\\saunak mitra\\onedrive\\desktop\\jupyter\\assignment\\lib\\site-packages (from httpx>=0.27.0->chromadb) (1.0.7)\n",
      "Requirement already satisfied: sniffio in c:\\users\\saunak mitra\\onedrive\\desktop\\jupyter\\assignment\\lib\\site-packages (from httpx>=0.27.0->chromadb) (1.3.1)\n",
      "Requirement already satisfied: h11<0.15,>=0.13 in c:\\users\\saunak mitra\\onedrive\\desktop\\jupyter\\assignment\\lib\\site-packages (from httpcore==1.*->httpx>=0.27.0->chromadb) (0.14.0)\n",
      "Requirement already satisfied: six>=1.9.0 in c:\\users\\saunak mitra\\onedrive\\desktop\\jupyter\\assignment\\lib\\site-packages (from kubernetes>=28.1.0->chromadb) (1.16.0)\n",
      "Requirement already satisfied: google-auth>=1.0.1 in c:\\users\\saunak mitra\\onedrive\\desktop\\jupyter\\assignment\\lib\\site-packages (from kubernetes>=28.1.0->chromadb) (2.36.0)\n",
      "Requirement already satisfied: requests-oauthlib in c:\\users\\saunak mitra\\onedrive\\desktop\\jupyter\\assignment\\lib\\site-packages (from kubernetes>=28.1.0->chromadb) (2.0.0)\n",
      "Requirement already satisfied: urllib3>=1.24.2 in c:\\users\\saunak mitra\\onedrive\\desktop\\jupyter\\assignment\\lib\\site-packages (from kubernetes>=28.1.0->chromadb) (2.2.3)\n",
      "Requirement already satisfied: durationpy>=0.7 in c:\\users\\saunak mitra\\onedrive\\desktop\\jupyter\\assignment\\lib\\site-packages (from kubernetes>=28.1.0->chromadb) (0.9)\n",
      "Requirement already satisfied: python-dateutil>=2.5.3 in c:\\users\\saunak mitra\\onedrive\\desktop\\jupyter\\assignment\\lib\\site-packages (from kubernetes>=28.1.0->chromadb) (2.9.0.post0)\n",
      "Requirement already satisfied: oauthlib>=3.2.2 in c:\\users\\saunak mitra\\onedrive\\desktop\\jupyter\\assignment\\lib\\site-packages (from kubernetes>=28.1.0->chromadb) (3.2.2)\n",
      "Requirement already satisfied: websocket-client!=0.40.0,!=0.41.*,!=0.42.*,>=0.32.0 in c:\\users\\saunak mitra\\onedrive\\desktop\\jupyter\\assignment\\lib\\site-packages (from kubernetes>=28.1.0->chromadb) (1.8.0)\n",
      "Requirement already satisfied: sympy in c:\\users\\saunak mitra\\onedrive\\desktop\\jupyter\\assignment\\lib\\site-packages (from onnxruntime>=1.14.1->chromadb) (1.13.1)\n",
      "Requirement already satisfied: protobuf in c:\\users\\saunak mitra\\onedrive\\desktop\\jupyter\\assignment\\lib\\site-packages (from onnxruntime>=1.14.1->chromadb) (5.29.0)\n",
      "Requirement already satisfied: coloredlogs in c:\\users\\saunak mitra\\onedrive\\desktop\\jupyter\\assignment\\lib\\site-packages (from onnxruntime>=1.14.1->chromadb) (15.0.1)\n",
      "Requirement already satisfied: flatbuffers in c:\\users\\saunak mitra\\onedrive\\desktop\\jupyter\\assignment\\lib\\site-packages (from onnxruntime>=1.14.1->chromadb) (24.3.25)\n",
      "Requirement already satisfied: importlib-metadata<=8.5.0,>=6.0 in c:\\users\\saunak mitra\\onedrive\\desktop\\jupyter\\assignment\\lib\\site-packages (from opentelemetry-api>=1.2.0->chromadb) (8.5.0)\n",
      "Requirement already satisfied: deprecated>=1.2.6 in c:\\users\\saunak mitra\\onedrive\\desktop\\jupyter\\assignment\\lib\\site-packages (from opentelemetry-api>=1.2.0->chromadb) (1.2.15)\n",
      "Requirement already satisfied: googleapis-common-protos~=1.52 in c:\\users\\saunak mitra\\onedrive\\desktop\\jupyter\\assignment\\lib\\site-packages (from opentelemetry-exporter-otlp-proto-grpc>=1.2.0->chromadb) (1.66.0)\n",
      "Requirement already satisfied: opentelemetry-proto==1.28.2 in c:\\users\\saunak mitra\\onedrive\\desktop\\jupyter\\assignment\\lib\\site-packages (from opentelemetry-exporter-otlp-proto-grpc>=1.2.0->chromadb) (1.28.2)\n",
      "Requirement already satisfied: opentelemetry-exporter-otlp-proto-common==1.28.2 in c:\\users\\saunak mitra\\onedrive\\desktop\\jupyter\\assignment\\lib\\site-packages (from opentelemetry-exporter-otlp-proto-grpc>=1.2.0->chromadb) (1.28.2)\n",
      "Requirement already satisfied: opentelemetry-util-http==0.49b2 in c:\\users\\saunak mitra\\onedrive\\desktop\\jupyter\\assignment\\lib\\site-packages (from opentelemetry-instrumentation-fastapi>=0.41b0->chromadb) (0.49b2)\n",
      "Requirement already satisfied: opentelemetry-instrumentation==0.49b2 in c:\\users\\saunak mitra\\onedrive\\desktop\\jupyter\\assignment\\lib\\site-packages (from opentelemetry-instrumentation-fastapi>=0.41b0->chromadb) (0.49b2)\n",
      "Requirement already satisfied: opentelemetry-semantic-conventions==0.49b2 in c:\\users\\saunak mitra\\onedrive\\desktop\\jupyter\\assignment\\lib\\site-packages (from opentelemetry-instrumentation-fastapi>=0.41b0->chromadb) (0.49b2)\n",
      "Requirement already satisfied: opentelemetry-instrumentation-asgi==0.49b2 in c:\\users\\saunak mitra\\onedrive\\desktop\\jupyter\\assignment\\lib\\site-packages (from opentelemetry-instrumentation-fastapi>=0.41b0->chromadb) (0.49b2)\n",
      "Requirement already satisfied: wrapt<2.0.0,>=1.0.0 in c:\\users\\saunak mitra\\onedrive\\desktop\\jupyter\\assignment\\lib\\site-packages (from opentelemetry-instrumentation==0.49b2->opentelemetry-instrumentation-fastapi>=0.41b0->chromadb) (1.17.0)\n",
      "Requirement already satisfied: asgiref~=3.0 in c:\\users\\saunak mitra\\onedrive\\desktop\\jupyter\\assignment\\lib\\site-packages (from opentelemetry-instrumentation-asgi==0.49b2->opentelemetry-instrumentation-fastapi>=0.41b0->chromadb) (3.8.1)\n",
      "Requirement already satisfied: monotonic>=1.5 in c:\\users\\saunak mitra\\onedrive\\desktop\\jupyter\\assignment\\lib\\site-packages (from posthog>=2.4.0->chromadb) (1.6)\n",
      "Requirement already satisfied: backoff>=1.10.0 in c:\\users\\saunak mitra\\onedrive\\desktop\\jupyter\\assignment\\lib\\site-packages (from posthog>=2.4.0->chromadb) (2.2.1)\n",
      "Requirement already satisfied: pydantic-core==2.23.4 in c:\\users\\saunak mitra\\onedrive\\desktop\\jupyter\\assignment\\lib\\site-packages (from pydantic>=1.9->chromadb) (2.23.4)\n",
      "Requirement already satisfied: annotated-types>=0.6.0 in c:\\users\\saunak mitra\\onedrive\\desktop\\jupyter\\assignment\\lib\\site-packages (from pydantic>=1.9->chromadb) (0.7.0)\n",
      "Requirement already satisfied: charset-normalizer<4,>=2 in c:\\users\\saunak mitra\\onedrive\\desktop\\jupyter\\assignment\\lib\\site-packages (from requests>=2.28->chromadb) (3.4.0)\n",
      "Requirement already satisfied: huggingface-hub<1.0,>=0.16.4 in c:\\users\\saunak mitra\\onedrive\\desktop\\jupyter\\assignment\\lib\\site-packages (from tokenizers>=0.13.2->chromadb) (0.26.3)\n",
      "Requirement already satisfied: click>=8.0.0 in c:\\users\\saunak mitra\\onedrive\\desktop\\jupyter\\assignment\\lib\\site-packages (from typer>=0.9.0->chromadb) (8.1.7)\n",
      "Requirement already satisfied: rich>=10.11.0 in c:\\users\\saunak mitra\\onedrive\\desktop\\jupyter\\assignment\\lib\\site-packages (from typer>=0.9.0->chromadb) (13.9.4)\n",
      "Requirement already satisfied: shellingham>=1.3.0 in c:\\users\\saunak mitra\\onedrive\\desktop\\jupyter\\assignment\\lib\\site-packages (from typer>=0.9.0->chromadb) (1.5.4)\n",
      "Requirement already satisfied: python-dotenv>=0.13 in c:\\users\\saunak mitra\\onedrive\\desktop\\jupyter\\assignment\\lib\\site-packages (from uvicorn[standard]>=0.18.3->chromadb) (1.0.1)\n",
      "Requirement already satisfied: httptools>=0.6.3 in c:\\users\\saunak mitra\\onedrive\\desktop\\jupyter\\assignment\\lib\\site-packages (from uvicorn[standard]>=0.18.3->chromadb) (0.6.4)\n",
      "Requirement already satisfied: websockets>=10.4 in c:\\users\\saunak mitra\\onedrive\\desktop\\jupyter\\assignment\\lib\\site-packages (from uvicorn[standard]>=0.18.3->chromadb) (14.1)\n",
      "Requirement already satisfied: watchfiles>=0.13 in c:\\users\\saunak mitra\\onedrive\\desktop\\jupyter\\assignment\\lib\\site-packages (from uvicorn[standard]>=0.18.3->chromadb) (1.0.0)\n",
      "Requirement already satisfied: rsa<5,>=3.1.4 in c:\\users\\saunak mitra\\onedrive\\desktop\\jupyter\\assignment\\lib\\site-packages (from google-auth>=1.0.1->kubernetes>=28.1.0->chromadb) (4.9)\n",
      "Requirement already satisfied: pyasn1-modules>=0.2.1 in c:\\users\\saunak mitra\\onedrive\\desktop\\jupyter\\assignment\\lib\\site-packages (from google-auth>=1.0.1->kubernetes>=28.1.0->chromadb) (0.4.1)\n",
      "Requirement already satisfied: cachetools<6.0,>=2.0.0 in c:\\users\\saunak mitra\\onedrive\\desktop\\jupyter\\assignment\\lib\\site-packages (from google-auth>=1.0.1->kubernetes>=28.1.0->chromadb) (5.5.0)\n",
      "Requirement already satisfied: filelock in c:\\users\\saunak mitra\\onedrive\\desktop\\jupyter\\assignment\\lib\\site-packages (from huggingface-hub<1.0,>=0.16.4->tokenizers>=0.13.2->chromadb) (3.16.1)\n",
      "Requirement already satisfied: fsspec>=2023.5.0 in c:\\users\\saunak mitra\\onedrive\\desktop\\jupyter\\assignment\\lib\\site-packages (from huggingface-hub<1.0,>=0.16.4->tokenizers>=0.13.2->chromadb) (2024.10.0)\n",
      "Requirement already satisfied: zipp>=3.20 in c:\\users\\saunak mitra\\onedrive\\desktop\\jupyter\\assignment\\lib\\site-packages (from importlib-metadata<=8.5.0,>=6.0->opentelemetry-api>=1.2.0->chromadb) (3.21.0)\n",
      "Requirement already satisfied: pygments<3.0.0,>=2.13.0 in c:\\users\\saunak mitra\\onedrive\\desktop\\jupyter\\assignment\\lib\\site-packages (from rich>=10.11.0->typer>=0.9.0->chromadb) (2.18.0)\n",
      "Requirement already satisfied: markdown-it-py>=2.2.0 in c:\\users\\saunak mitra\\onedrive\\desktop\\jupyter\\assignment\\lib\\site-packages (from rich>=10.11.0->typer>=0.9.0->chromadb) (3.0.0)\n",
      "Requirement already satisfied: exceptiongroup>=1.0.2 in c:\\users\\saunak mitra\\onedrive\\desktop\\jupyter\\assignment\\lib\\site-packages (from anyio->httpx>=0.27.0->chromadb) (1.2.2)\n",
      "Requirement already satisfied: humanfriendly>=9.1 in c:\\users\\saunak mitra\\onedrive\\desktop\\jupyter\\assignment\\lib\\site-packages (from coloredlogs->onnxruntime>=1.14.1->chromadb) (10.0)\n",
      "Requirement already satisfied: mpmath<1.4,>=1.1.0 in c:\\users\\saunak mitra\\onedrive\\desktop\\jupyter\\assignment\\lib\\site-packages (from sympy->onnxruntime>=1.14.1->chromadb) (1.3.0)\n",
      "Requirement already satisfied: pyreadline3 in c:\\users\\saunak mitra\\onedrive\\desktop\\jupyter\\assignment\\lib\\site-packages (from humanfriendly>=9.1->coloredlogs->onnxruntime>=1.14.1->chromadb) (3.5.4)\n",
      "Requirement already satisfied: mdurl~=0.1 in c:\\users\\saunak mitra\\onedrive\\desktop\\jupyter\\assignment\\lib\\site-packages (from markdown-it-py>=2.2.0->rich>=10.11.0->typer>=0.9.0->chromadb) (0.1.2)\n",
      "Requirement already satisfied: pyasn1<0.7.0,>=0.4.6 in c:\\users\\saunak mitra\\onedrive\\desktop\\jupyter\\assignment\\lib\\site-packages (from pyasn1-modules>=0.2.1->google-auth>=1.0.1->kubernetes>=28.1.0->chromadb) (0.6.1)\n",
      "Note: you may need to restart the kernel to use updated packages.\n"
     ]
    },
    {
     "name": "stderr",
     "output_type": "stream",
     "text": [
      "\n",
      "[notice] A new release of pip available: 22.2.2 -> 24.3.1\n",
      "[notice] To update, run: python.exe -m pip install --upgrade pip\n"
     ]
    }
   ],
   "source": [
    "pip install chromadb"
   ]
  },
  {
   "cell_type": "code",
   "execution_count": null,
   "metadata": {},
   "outputs": [],
   "source": [
    "from dotenv import load_dotenv\n",
    "import time\n",
    "import os\n",
    "from llama_index.embeddings.huggingface import HuggingFaceEmbedding\n",
    "from llama_index.llms.groq import Groq"
   ]
  },
  {
   "cell_type": "code",
   "execution_count": 1,
   "metadata": {},
   "outputs": [],
   "source": [
    "from dotenv import load_dotenv\n",
    "import os\n",
    "\n",
    "load_dotenv()\n",
    "\n",
    "cohere_api_key = os.getenv(\"COHERE_API_KEY\")\n",
    "groq_api_key=os.getenv(\"GROQ_API_KEY\")"
   ]
  },
  {
   "cell_type": "code",
   "execution_count": 36,
   "metadata": {},
   "outputs": [],
   "source": [
    "from langchain.embeddings import OpenAIEmbeddings\n",
    "from langchain.text_splitter import  RecursiveCharacterTextSplitter\n",
    "from langchain.llms import cohere\n",
    "from langchain.chains import RetrievalQA\n",
    "from langchain.document_loaders import TextLoader\n",
    "from langchain.document_loaders import DirectoryLoader\n",
    "from langchain_community.document_loaders import PyPDFLoader\n",
    "from langchain_huggingface import HuggingFaceEmbeddings\n",
    "from langchain_community.llms import Cohere\n",
    "from langchain_cohere import ChatCohere\n",
    "from langchain_groq import ChatGroq\n",
    "from langchain_chroma import Chroma\n",
    "import chromadb\n"
   ]
  },
  {
   "cell_type": "code",
   "execution_count": 2,
   "metadata": {},
   "outputs": [],
   "source": [
    "#pip install langchain_huggingface\n",
    "#!pip install langchain-chroma"
   ]
  },
  {
   "cell_type": "code",
   "execution_count": 37,
   "metadata": {},
   "outputs": [],
   "source": []
  },
  {
   "cell_type": "code",
   "execution_count": 38,
   "metadata": {},
   "outputs": [],
   "source": [
    "loader=PyPDFLoader(\"C:\\\\Users\\\\SAUNAK MITRA\\\\Downloads\\\\NIPS-2017-attention-is-all-you-need-Paper.pdf\")\n",
    "document=loader.load()"
   ]
  },
  {
   "cell_type": "code",
   "execution_count": 39,
   "metadata": {},
   "outputs": [],
   "source": [
    "text_splitter=RecursiveCharacterTextSplitter(chunk_size=100,chunk_overlap=20)\n",
    "texts=text_splitter.split_documents(document)"
   ]
  },
  {
   "cell_type": "code",
   "execution_count": 40,
   "metadata": {},
   "outputs": [
    {
     "data": {
      "text/plain": [
       "453"
      ]
     },
     "execution_count": 40,
     "metadata": {},
     "output_type": "execute_result"
    }
   ],
   "source": [
    "len(texts)"
   ]
  },
  {
   "cell_type": "code",
   "execution_count": 23,
   "metadata": {},
   "outputs": [],
   "source": [
    "persist_directory='db'\n",
    "embedding=HuggingFaceEmbeddings()\n",
    "vectordb=Chroma.from_documents(documents=texts,embedding=embedding,persist_directory=persist_directory)\n"
   ]
  },
  {
   "cell_type": "code",
   "execution_count": 24,
   "metadata": {},
   "outputs": [],
   "source": [
    "retriever=vectordb.as_retriever()"
   ]
  },
  {
   "cell_type": "code",
   "execution_count": 8,
   "metadata": {},
   "outputs": [],
   "source": [
    "docs=retriever.invoke(\"what is the data about?\")"
   ]
  },
  {
   "cell_type": "code",
   "execution_count": 9,
   "metadata": {},
   "outputs": [
    {
     "data": {
      "text/plain": [
       "4"
      ]
     },
     "execution_count": 9,
     "metadata": {},
     "output_type": "execute_result"
    }
   ],
   "source": [
    "len(docs)"
   ]
  },
  {
   "cell_type": "code",
   "execution_count": 10,
   "metadata": {},
   "outputs": [
    {
     "data": {
      "text/plain": [
       "'similarity'"
      ]
     },
     "execution_count": 10,
     "metadata": {},
     "output_type": "execute_result"
    }
   ],
   "source": [
    "retriever.search_type"
   ]
  },
  {
   "cell_type": "code",
   "execution_count": 11,
   "metadata": {},
   "outputs": [],
   "source": [
    "#pip install langchain-cohere"
   ]
  },
  {
   "cell_type": "code",
   "execution_count": 12,
   "metadata": {},
   "outputs": [
    {
     "name": "stderr",
     "output_type": "stream",
     "text": [
      "C:\\Users\\SAUNAK MITRA\\AppData\\Local\\Temp\\ipykernel_19168\\1234360599.py:1: LangChainDeprecationWarning: The class `Cohere` was deprecated in LangChain 0.1.14 and will be removed in 1.0. An updated version of the class exists in the :class:`~langchain-cohere package and should be used instead. To use it run `pip install -U :class:`~langchain-cohere` and import as `from :class:`~langchain_cohere import Cohere``.\n",
      "  qa_chain=RetrievalQA.from_chain_type(llm=Cohere(cohere_api_key =\"VzogaFZxHAsgDHVZPn8eTRXN0aOJACvbkeNjzvaw\"),retriever=retriever,return_source_documents=True)\n"
     ]
    }
   ],
   "source": [
    "qa_chain=RetrievalQA.from_chain_type(llm=Cohere(cohere_api_key=cohere_api_key),retriever=retriever,return_source_documents=True)"
   ]
  },
  {
   "cell_type": "code",
   "execution_count": 13,
   "metadata": {},
   "outputs": [],
   "source": [
    "def process_llm_response(llm_response):\n",
    "    print(llm_response['result'])\n",
    "    print('\\n\\nSources:')\n",
    "    for source in llm_response[\"source_documents\"]:\n",
    "        print(source.metadata['source'])"
   ]
  },
  {
   "cell_type": "code",
   "execution_count": 14,
   "metadata": {},
   "outputs": [
    {
     "name": "stderr",
     "output_type": "stream",
     "text": [
      "C:\\Users\\SAUNAK MITRA\\AppData\\Local\\Temp\\ipykernel_19168\\286441543.py:2: LangChainDeprecationWarning: The method `Chain.__call__` was deprecated in langchain 0.1.0 and will be removed in 1.0. Use :meth:`~invoke` instead.\n",
      "  llm_response=qa_chain(query)\n"
     ]
    },
    {
     "name": "stdout",
     "output_type": "stream",
     "text": [
      " The heading of this paper is \"Comments, Corrections and Inspiration\" and it is repeated twice. \n",
      "However, I do not have access to any additional context beyond what has been provided regarding the matter being discussed in the article or the document's main focus. \n",
      "\n",
      "Can I assist you with anything else with the information that I have been given? \n",
      "\n",
      "\n",
      "Sources:\n",
      "C:\\Users\\SAUNAK MITRA\\Downloads\\NIPS-2017-attention-is-all-you-need-Paper.pdf\n",
      "C:\\Users\\SAUNAK MITRA\\Downloads\\NIPS-2017-attention-is-all-you-need-Paper.pdf\n",
      "C:\\Users\\SAUNAK MITRA\\Downloads\\NIPS-2017-attention-is-all-you-need-Paper.pdf\n",
      "C:\\Users\\SAUNAK MITRA\\Downloads\\NIPS-2017-attention-is-all-you-need-Paper.pdf\n"
     ]
    }
   ],
   "source": [
    "query=\"what is the heading of this paper?\"\n",
    "llm_response=qa_chain(query)\n",
    "process_llm_response(llm_response)"
   ]
  },
  {
   "cell_type": "code",
   "execution_count": 25,
   "metadata": {},
   "outputs": [],
   "source": [
    "from langchain.prompts import ChatPromptTemplate"
   ]
  },
  {
   "cell_type": "code",
   "execution_count": 26,
   "metadata": {},
   "outputs": [],
   "source": [
    "template=\"\"\"You are an assistant for question_answering tasks.\n",
    "Use the following pieces of retrieved context to answer the question. \n",
    "If you don't know the answer ,just say you don't know.\n",
    "Use ten sentences maximum and keep the answer concise. \n",
    "Question:{question}\n",
    "context: {context}\n",
    "Answer:\n",
    "\"\"\""
   ]
  },
  {
   "cell_type": "code",
   "execution_count": 27,
   "metadata": {},
   "outputs": [],
   "source": [
    "prompt=ChatPromptTemplate.from_template(template)"
   ]
  },
  {
   "cell_type": "code",
   "execution_count": 28,
   "metadata": {},
   "outputs": [],
   "source": [
    "from langchain.schema.runnable import  RunnablePassthrough\n",
    "from langchain.schema.output_parser import  StrOutputParser"
   ]
  },
  {
   "cell_type": "code",
   "execution_count": 29,
   "metadata": {},
   "outputs": [],
   "source": [
    "llm=Cohere(cohere_api_key=cohere_api_key)"
   ]
  },
  {
   "cell_type": "code",
   "execution_count": 30,
   "metadata": {},
   "outputs": [],
   "source": [
    "rag_chain = (\n",
    "                        {\"context\": retriever , \"question\": RunnablePassthrough()}\n",
    "                        | prompt\n",
    "                        | llm\n",
    "                        | StrOutputParser()\n",
    ")"
   ]
  },
  {
   "cell_type": "code",
   "execution_count": 34,
   "metadata": {},
   "outputs": [
    {
     "data": {
      "text/plain": [
       "' I don\\'t know the answer, but I can extract information from the provided context that might be relevant to the question. \\n\\nThe context seems to refer to a paper titled \"Attention is All You Need\". The paper\\'s pages are mentioned as 770–778, 2016. It seems to be related to machine learning and recognition. \\n\\nI hope this information is helpful, please provide additional context or questions that I can use to further refine my search. '"
      ]
     },
     "execution_count": 34,
     "metadata": {},
     "output_type": "execute_result"
    }
   ],
   "source": [
    "rag_chain.invoke(\"what is the paper about?\")"
   ]
  },
  {
   "cell_type": "code",
   "execution_count": 32,
   "metadata": {},
   "outputs": [],
   "source": [
    "llm1= ChatGroq(temperature=0, groq_api_key=groq_api_key, model_name=\"mixtral-8x7b-32768\")\n",
    "rag_chain1 = (\n",
    "                        {\"context\": retriever , \"question\": RunnablePassthrough()}\n",
    "                        | prompt\n",
    "                        | llm1\n",
    "                        | StrOutputParser()\n",
    ")"
   ]
  },
  {
   "cell_type": "code",
   "execution_count": 33,
   "metadata": {},
   "outputs": [
    {
     "data": {
      "text/plain": [
       "'Based on the provided context, I cannot determine the exact heading of the paper as it is not included in the given sentences. The context mentions that comments, corrections, and inspiration can be found on page 8, and section 3.2 describes something, but it does not specify what.'"
      ]
     },
     "execution_count": 33,
     "metadata": {},
     "output_type": "execute_result"
    }
   ],
   "source": [
    "rag_chain1.invoke(\"what is the heading of this paper?\")"
   ]
  },
  {
   "cell_type": "code",
   "execution_count": 34,
   "metadata": {},
   "outputs": [
    {
     "data": {
      "text/plain": [
       "{'query': 'what is the heading of this paper?',\n",
       " 'result': ' The heading of the paper is \"EffectiveRecognition of Vedic Languages\". \\n\\nIt is likely 3.2 refers to section 3.2, \"Post Processing Module\" in the document. ',\n",
       " 'source_documents': [Document(metadata={'page': 8, 'source': 'C:\\\\Users\\\\SAUNAK MITRA\\\\Downloads\\\\NIPS-2017-attention-is-all-you-need-Paper.pdf'}, page_content='comments, corrections and inspiration.\\n9'),\n",
       "  Document(metadata={'page': 1, 'source': 'C:\\\\Users\\\\SAUNAK MITRA\\\\Downloads\\\\NIPS-2017-attention-is-all-you-need-Paper.pdf'}, page_content='described in section 3.2.'),\n",
       "  Document(metadata={'page': 9, 'source': 'C:\\\\Users\\\\SAUNAK MITRA\\\\Downloads\\\\NIPS-2017-attention-is-all-you-need-Paper.pdf'}, page_content='Recognition, pages 770–778, 2016.'),\n",
       "  Document(metadata={'page': 9, 'source': 'C:\\\\Users\\\\SAUNAK MITRA\\\\Downloads\\\\NIPS-2017-attention-is-all-you-need-Paper.pdf'}, page_content='machine translation. CoRR, abs/1406.1078, 2014.')]}"
      ]
     },
     "execution_count": 34,
     "metadata": {},
     "output_type": "execute_result"
    }
   ],
   "source": [
    "llm_response"
   ]
  },
  {
   "cell_type": "code",
   "execution_count": 24,
   "metadata": {},
   "outputs": [],
   "source": [
    "qa_chain1=RetrievalQA.from_chain_type(llm=ChatGroq(groq_api_key=groq_api_key),retriever=retriever,return_source_documents=True)"
   ]
  },
  {
   "cell_type": "code",
   "execution_count": 35,
   "metadata": {},
   "outputs": [
    {
     "name": "stdout",
     "output_type": "stream",
     "text": [
      "The heading of the paper \"machine translation. CoRR, abs/1406.1078, 2014\" is \"machine translation\". The other pieces of context don't provide any additional information that would help answer the question.\n",
      "\n",
      "\n",
      "Sources:\n",
      "C:\\Users\\SAUNAK MITRA\\Downloads\\NIPS-2017-attention-is-all-you-need-Paper.pdf\n",
      "C:\\Users\\SAUNAK MITRA\\Downloads\\NIPS-2017-attention-is-all-you-need-Paper.pdf\n",
      "C:\\Users\\SAUNAK MITRA\\Downloads\\NIPS-2017-attention-is-all-you-need-Paper.pdf\n",
      "C:\\Users\\SAUNAK MITRA\\Downloads\\NIPS-2017-attention-is-all-you-need-Paper.pdf\n"
     ]
    }
   ],
   "source": [
    "query=\"what is the heading of this paper?\"\n",
    "llm_response=qa_chain1(query)\n",
    "process_llm_response(llm_response)"
   ]
  },
  {
   "cell_type": "code",
   "execution_count": null,
   "metadata": {},
   "outputs": [],
   "source": []
  },
  {
   "cell_type": "code",
   "execution_count": null,
   "metadata": {},
   "outputs": [],
   "source": []
  },
  {
   "cell_type": "code",
   "execution_count": null,
   "metadata": {},
   "outputs": [],
   "source": []
  }
 ],
 "metadata": {
  "kernelspec": {
   "display_name": "assignment",
   "language": "python",
   "name": "python3"
  },
  "language_info": {
   "codemirror_mode": {
    "name": "ipython",
    "version": 3
   },
   "file_extension": ".py",
   "mimetype": "text/x-python",
   "name": "python",
   "nbconvert_exporter": "python",
   "pygments_lexer": "ipython3",
   "version": "3.10.7"
  }
 },
 "nbformat": 4,
 "nbformat_minor": 2
}
