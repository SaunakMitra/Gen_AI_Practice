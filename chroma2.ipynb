{
 "cells": [
  {
   "cell_type": "code",
   "execution_count": 29,
   "metadata": {},
   "outputs": [],
   "source": [
    "from langchain.embeddings import OpenAIEmbeddings\n",
    "from langchain.text_splitter import  RecursiveCharacterTextSplitter\n",
    "from langchain.llms import cohere\n",
    "from langchain.chains import RetrievalQA\n",
    "from langchain.document_loaders import TextLoader\n",
    "from langchain.document_loaders import DirectoryLoader\n",
    "from langchain_community.document_loaders import PyPDFLoader\n",
    "from langchain_huggingface import HuggingFaceEmbeddings\n",
    "from langchain_community.llms import Cohere\n",
    "from langchain_cohere import ChatCohere\n",
    "from langchain_groq import ChatGroq\n",
    "from langchain_chroma import Chroma\n",
    "import chromadb\n",
    "import cohere\n"
   ]
  },
  {
   "cell_type": "code",
   "execution_count": null,
   "metadata": {},
   "outputs": [],
   "source": [
    "from dotenv import load_dotenv\n",
    "import os\n",
    "\n",
    "load_dotenv()\n",
    "\n",
    "cohere_api_key = os.getenv(\"COHERE_API_KEY\")\n",
    "groq_api_key=os.getenv(\"GROQ_API_KEY\")\n",
    "openai_api_key=os.getenv(\"OPENAI_API_KEY\")"
   ]
  },
  {
   "cell_type": "code",
   "execution_count": 15,
   "metadata": {},
   "outputs": [
    {
     "name": "stderr",
     "output_type": "stream",
     "text": [
      "C:\\Users\\SAUNAK MITRA\\.cache\\chroma\\onnx_models\\all-MiniLM-L6-v2\\onnx.tar.gz: 100%|██████████| 79.3M/79.3M [00:34<00:00, 2.43MiB/s]\n"
     ]
    }
   ],
   "source": [
    "\n",
    "CHROMA_PATH=r\"chroma_db\"\n",
    "chroma_client=chromadb.PersistentClient(path=CHROMA_PATH)\n",
    "collection=chroma_client.get_or_create_collection(name=\"LLm\")\n",
    "\n",
    "loader=PyPDFLoader(\"C:\\\\Users\\\\SAUNAK MITRA\\\\OneDrive\\\\Desktop\\\\jupyter\\\\assignment\\\\data\\\\NIPS-2017-attention-is-all-you-need-Paper.pdf\")\n",
    "raw_documents=loader.load()\n",
    "\n",
    "text_splitter=RecursiveCharacterTextSplitter(\n",
    "    chunk_size=300,\n",
    "    chunk_overlap=100,\n",
    "    length_function=len\n",
    ")\n",
    "\n",
    "chunks=text_splitter.split_documents(raw_documents)\n",
    "documents=[]\n",
    "metadata=[]\n",
    "ids=[]\n",
    "\n",
    "i= 0\n",
    "for chunk in chunks:\n",
    "    documents.append(chunk.page_content)\n",
    "    ids.append(\"ID\"+str(i))\n",
    "    metadata.append(chunk.metadata)\n",
    "    i+=1\n",
    "collection.upsert(\n",
    "    documents=documents,\n",
    "    metadatas=metadata,\n",
    "    ids=ids\n",
    ")"
   ]
  },
  {
   "cell_type": "code",
   "execution_count": 21,
   "metadata": {},
   "outputs": [
    {
     "name": "stdout",
     "output_type": "stream",
     "text": [
      "Requirement already satisfied: openai in c:\\users\\saunak mitra\\onedrive\\desktop\\jupyter\\assignment\\lib\\site-packages (1.55.3)\n",
      "Requirement already satisfied: sniffio in c:\\users\\saunak mitra\\onedrive\\desktop\\jupyter\\assignment\\lib\\site-packages (from openai) (1.3.1)\n",
      "Requirement already satisfied: distro<2,>=1.7.0 in c:\\users\\saunak mitra\\onedrive\\desktop\\jupyter\\assignment\\lib\\site-packages (from openai) (1.9.0)\n",
      "Requirement already satisfied: httpx<1,>=0.23.0 in c:\\users\\saunak mitra\\onedrive\\desktop\\jupyter\\assignment\\lib\\site-packages (from openai) (0.27.0)\n",
      "Requirement already satisfied: anyio<5,>=3.5.0 in c:\\users\\saunak mitra\\onedrive\\desktop\\jupyter\\assignment\\lib\\site-packages (from openai) (4.6.2.post1)\n",
      "Requirement already satisfied: pydantic<3,>=1.9.0 in c:\\users\\saunak mitra\\onedrive\\desktop\\jupyter\\assignment\\lib\\site-packages (from openai) (2.9.2)\n",
      "Requirement already satisfied: tqdm>4 in c:\\users\\saunak mitra\\onedrive\\desktop\\jupyter\\assignment\\lib\\site-packages (from openai) (4.67.1)\n",
      "Requirement already satisfied: typing-extensions<5,>=4.11 in c:\\users\\saunak mitra\\onedrive\\desktop\\jupyter\\assignment\\lib\\site-packages (from openai) (4.12.2)\n",
      "Requirement already satisfied: jiter<1,>=0.4.0 in c:\\users\\saunak mitra\\onedrive\\desktop\\jupyter\\assignment\\lib\\site-packages (from openai) (0.8.0)\n",
      "Requirement already satisfied: exceptiongroup>=1.0.2 in c:\\users\\saunak mitra\\onedrive\\desktop\\jupyter\\assignment\\lib\\site-packages (from anyio<5,>=3.5.0->openai) (1.2.2)\n",
      "Requirement already satisfied: idna>=2.8 in c:\\users\\saunak mitra\\onedrive\\desktop\\jupyter\\assignment\\lib\\site-packages (from anyio<5,>=3.5.0->openai) (3.10)\n",
      "Requirement already satisfied: certifi in c:\\users\\saunak mitra\\onedrive\\desktop\\jupyter\\assignment\\lib\\site-packages (from httpx<1,>=0.23.0->openai) (2024.8.30)\n",
      "Requirement already satisfied: httpcore==1.* in c:\\users\\saunak mitra\\onedrive\\desktop\\jupyter\\assignment\\lib\\site-packages (from httpx<1,>=0.23.0->openai) (1.0.7)\n",
      "Requirement already satisfied: h11<0.15,>=0.13 in c:\\users\\saunak mitra\\onedrive\\desktop\\jupyter\\assignment\\lib\\site-packages (from httpcore==1.*->httpx<1,>=0.23.0->openai) (0.14.0)\n",
      "Requirement already satisfied: pydantic-core==2.23.4 in c:\\users\\saunak mitra\\onedrive\\desktop\\jupyter\\assignment\\lib\\site-packages (from pydantic<3,>=1.9.0->openai) (2.23.4)\n",
      "Requirement already satisfied: annotated-types>=0.6.0 in c:\\users\\saunak mitra\\onedrive\\desktop\\jupyter\\assignment\\lib\\site-packages (from pydantic<3,>=1.9.0->openai) (0.7.0)\n",
      "Requirement already satisfied: colorama in c:\\users\\saunak mitra\\onedrive\\desktop\\jupyter\\assignment\\lib\\site-packages (from tqdm>4->openai) (0.4.6)\n",
      "Note: you may need to restart the kernel to use updated packages.\n"
     ]
    },
    {
     "name": "stderr",
     "output_type": "stream",
     "text": [
      "\n",
      "[notice] A new release of pip available: 22.2.2 -> 24.3.1\n",
      "[notice] To update, run: python.exe -m pip install --upgrade pip\n"
     ]
    }
   ],
   "source": [
    "pip install openai"
   ]
  },
  {
   "cell_type": "code",
   "execution_count": 22,
   "metadata": {},
   "outputs": [],
   "source": [
    "from openai import OpenAI"
   ]
  },
  {
   "cell_type": "code",
   "execution_count": 39,
   "metadata": {},
   "outputs": [
    {
     "ename": "SyntaxError",
     "evalue": "invalid syntax (2070960518.py, line 5)",
     "output_type": "error",
     "traceback": [
      "\u001b[1;36m  Cell \u001b[1;32mIn[39], line 5\u001b[1;36m\u001b[0m\n\u001b[1;33m    client=OpenAI(api_key=)\u001b[0m\n\u001b[1;37m                          ^\u001b[0m\n\u001b[1;31mSyntaxError\u001b[0m\u001b[1;31m:\u001b[0m invalid syntax\n"
     ]
    }
   ],
   "source": [
    "user_query=input(\"what is the data about?\\n\\n\")\n",
    "\n",
    "results=collection.query(query_texts=[user_query],n_results=1)\n",
    "\n",
    "client=OpenAI(api_key=openai_api_key)\n",
    "\n",
    "system_prompt=\"\"\"\n",
    "You are a helpful assistant. You answer questions about llm.\n",
    "But you only answer based on knowledge I'm providing you.you don't use your internal knowledge and you don't make things up.\n",
    "\n",
    "If you don't know the answer, just say: I don't know.\n",
    "\n",
    "---------------------\n",
    "The data: \n",
    "\"\"\"+str(results['documents'])+\"\"\"\n",
    "\"\"\"+str(results['metadatas'])+\"\"\"\n",
    "\"\"\"\n",
    "\n",
    "response=client.chat.completions.create(\n",
    "    model=\"gpt-3.5-turbo\",\n",
    "    messages=[\n",
    "    {\"role\": \"system\", \"content\": system_prompt},\n",
    "    {\"role\": \"user\", \"content\":user_query}\n",
    "    ]\n",
    ")\n",
    "print(\"\\n\\n------------------\\n\\n\")\n",
    "print(response.choices[0].message.content)"
   ]
  },
  {
   "cell_type": "code",
   "execution_count": null,
   "metadata": {},
   "outputs": [],
   "source": []
  },
  {
   "cell_type": "code",
   "execution_count": null,
   "metadata": {},
   "outputs": [],
   "source": []
  }
 ],
 "metadata": {
  "kernelspec": {
   "display_name": "assignment",
   "language": "python",
   "name": "python3"
  },
  "language_info": {
   "codemirror_mode": {
    "name": "ipython",
    "version": 3
   },
   "file_extension": ".py",
   "mimetype": "text/x-python",
   "name": "python",
   "nbconvert_exporter": "python",
   "pygments_lexer": "ipython3",
   "version": "3.10.7"
  }
 },
 "nbformat": 4,
 "nbformat_minor": 2
}
